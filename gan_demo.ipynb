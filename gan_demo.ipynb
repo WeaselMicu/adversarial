{
 "cells": [
  {
   "cell_type": "code",
   "execution_count": 1,
   "metadata": {
    "collapsed": false,
    "scrolled": true
   },
   "outputs": [
    {
     "data": {
      "text/plain": [
       "GAN2D"
      ]
     },
     "execution_count": 1,
     "metadata": {},
     "output_type": "execute_result"
    }
   ],
   "source": [
    "include(\"gan2d.jl\")"
   ]
  },
  {
   "cell_type": "code",
   "execution_count": 2,
   "metadata": {
    "collapsed": false
   },
   "outputs": [
    {
     "name": "stderr",
     "output_type": "stream",
     "text": [
      "\u001b[1m\u001b[36mINFO: \u001b[39m\u001b[22m\u001b[36mLoading MNIST...\n",
      "\u001b[39m"
     ]
    },
    {
     "name": "stdout",
     "output_type": "stream",
     "text": [
      "training started...\n",
      "(:epoch, 1, :dloss, 0.24701191f0, :gloss, 3.783549f0)\n",
      "(:epoch, 2, :dloss, 0.10281051f0, :gloss, 4.7031703f0)\n"
     ]
    },
    {
     "data": {
      "text/plain": [
       "(Any[Knet.KnetArray{Float32,4}(Knet.KnetPtr(Ptr{Void} @0x00000081050e0000, 6400, 0, nothing), (5, 5, 1, 64)), Knet.KnetArray{Float32,4}(Knet.KnetPtr(Ptr{Void} @0x00000081052e0000, 256, 0, nothing), (1, 1, 64, 1)), Knet.KnetArray{Float32,4}(Knet.KnetPtr(Ptr{Void} @0x00000081053e0000, 819200, 0, nothing), (5, 5, 64, 128)), Knet.KnetArray{Float32,4}(Knet.KnetPtr(Ptr{Void} @0x00000081052e0200, 512, 0, nothing), (1, 1, 128, 1)), Knet.KnetArray{Float32,2}(Knet.KnetPtr(Ptr{Void} @0x00000081054e0000, 8388608, 0, nothing), (1024, 2048)), Knet.KnetArray{Float32,2}(Knet.KnetPtr(Ptr{Void} @0x0000008105ce0000, 4096, 0, nothing), (1024, 1)), Knet.KnetArray{Float32,2}(Knet.KnetPtr(Ptr{Void} @0x00000081050e1a00, 8192, 0, nothing), (2, 1024)), Knet.KnetArray{Float32,2}(Knet.KnetPtr(Ptr{Void} @0x00000081052e0400, 8, 0, nothing), (2, 1))], Any[Knet.KnetArray{Float32,2}(Knet.KnetPtr(Ptr{Void} @0x0000008105de0000, 1843200, 0, nothing), (4608, 100)), Knet.KnetArray{Float32,2}(Knet.KnetPtr(Ptr{Void} @0x0000008105fc0000, 18432, 0, nothing), (4608, 1)), Knet.KnetArray{Float32,4}(Knet.KnetPtr(Ptr{Void} @0x00000081060c0000, 524288, 0, nothing), (4, 4, 64, 128)), Knet.KnetArray{Float32,4}(Knet.KnetPtr(Ptr{Void} @0x00000081052e0600, 256, 0, nothing), (1, 1, 64, 1)), Knet.KnetArray{Float32,4}(Knet.KnetPtr(Ptr{Void} @0x00000081052e0800, 1024, 0, nothing), (2, 2, 1, 64)), Knet.KnetArray{Float32,4}(Knet.KnetPtr(Ptr{Void} @0x00000081052e0c00, 4, 0, nothing), (1, 1, 1, 1))])"
      ]
     },
     "execution_count": 2,
     "metadata": {},
     "output_type": "execute_result"
    }
   ],
   "source": [
    "wd,wg = GAN2D.main(\"--epochs 2 --batchsize 100\")"
   ]
  },
  {
   "cell_type": "code",
   "execution_count": null,
   "metadata": {
    "collapsed": false,
    "scrolled": true
   },
   "outputs": [],
   "source": [
    "using Knet,Images\n",
    "z = randn(100, 64); z = convert(KnetArray{Float32}, z)\n",
    "generated = Array(GAN2D.gnet(wg,z));\n",
    "generated = reshape(generated, 784, 64);\n",
    "grid = mnistgrid(generated; gridsize=(8,8),scale=1.5)\n",
    "display(colorview(Gray, grid))"
   ]
  },
  {
   "cell_type": "code",
   "execution_count": null,
   "metadata": {
    "collapsed": true
   },
   "outputs": [],
   "source": []
  }
 ],
 "metadata": {
  "kernelspec": {
   "display_name": "Julia 0.6.0",
   "language": "julia",
   "name": "julia-0.6"
  },
  "language_info": {
   "file_extension": ".jl",
   "mimetype": "application/julia",
   "name": "julia",
   "version": "0.6.0"
  }
 },
 "nbformat": 4,
 "nbformat_minor": 2
}
